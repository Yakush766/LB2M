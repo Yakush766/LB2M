{
 "cells": [
  {
   "cell_type": "code",
   "execution_count": 1,
   "id": "c9b99cfa-7cc6-4b2b-8ca2-92636b558ad8",
   "metadata": {},
   "outputs": [
    {
     "name": "stdout",
     "output_type": "stream",
     "text": [
      "Исходная матрица:\n",
      "[[0.84612765 0.66258712 0.19005331]\n",
      " [0.69594645 0.78850319 0.14111315]\n",
      " [0.67709174 0.55180887 0.46140761]]\n",
      "Определитель матрицы: 0.06401343572201536\n",
      "Обратная матрица:\n",
      "[[ 4.46709156 -3.13761681 -0.88040714]\n",
      " [-3.52376705  4.08861362  0.20100761]\n",
      " [-2.34106438 -0.285385    3.21884294]]\n"
     ]
    }
   ],
   "source": [
    "import numpy as np\n",
    "from numpy import linalg\n",
    "\n",
    "# 1. Создаем случайную квадратную матрицу 3x3\n",
    "matrix = np.random.rand(3, 3)\n",
    "print(\"Исходная матрица:\")\n",
    "print(matrix)\n",
    "\n",
    "# 2. Находим определитель этой матрицы\n",
    "determinant = linalg.det(matrix)\n",
    "print(\"Определитель матрицы:\", determinant)\n",
    "\n",
    "# 3. Находим обратную матрицу (если существует, иначе выводим сообщение, что матрица вырождена)\n",
    "try:\n",
    "    inverse_matrix = linalg.inv(matrix)\n",
    "    print(\"Обратная матрица:\")\n",
    "    print(inverse_matrix)\n",
    "except linalg.LinAlgError:\n",
    "    print(\"Матрица вырождена (не имеет обратной матрицы).\")\n"
   ]
  }
 ],
 "metadata": {
  "kernelspec": {
   "display_name": "Python 3 (ipykernel)",
   "language": "python",
   "name": "python3"
  },
  "language_info": {
   "codemirror_mode": {
    "name": "ipython",
    "version": 3
   },
   "file_extension": ".py",
   "mimetype": "text/x-python",
   "name": "python",
   "nbconvert_exporter": "python",
   "pygments_lexer": "ipython3",
   "version": "3.12.7"
  }
 },
 "nbformat": 4,
 "nbformat_minor": 5
}
