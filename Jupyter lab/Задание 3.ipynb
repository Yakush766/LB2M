{
 "cells": [
  {
   "cell_type": "code",
   "execution_count": 1,
   "id": "0cb56639-abb8-4337-a6cf-1d36d9b45604",
   "metadata": {},
   "outputs": [
    {
     "name": "stdout",
     "output_type": "stream",
     "text": [
      "Первый массив:\n",
      "[[35  7 20 45 22]]\n",
      "Второй массив:\n",
      "[[24  6  7 24 47]]\n",
      "Объединенный массив:\n",
      "[[35  7 20 45 22]\n",
      " [24  6  7 24 47]]\n",
      "Первый подмассив (после разделения):\n",
      "[35  7 20 45 22]\n",
      "Второй подмассив (после разделения):\n",
      "[24  6  7 24 47]\n"
     ]
    }
   ],
   "source": [
    "import numpy as np\n",
    "\n",
    "# 1. Создаем два массива NumPy размером 1x5, заполненные случайными числами от 0 до 50\n",
    "arr1 = np.random.randint(0, 51, size=(1, 5))\n",
    "arr2 = np.random.randint(0, 51, size=(1, 5))\n",
    "\n",
    "print(\"Первый массив:\")\n",
    "print(arr1)\n",
    "print(\"Второй массив:\")\n",
    "print(arr2)\n",
    "\n",
    "# 2. Объединяем эти массивы в один двумерный массив (по строкам)\n",
    "combined_arr = np.concatenate((arr1, arr2), axis=0)\n",
    "\n",
    "print(\"Объединенный массив:\")\n",
    "print(combined_arr)\n",
    "\n",
    "# 3. Разделяем полученный массив на два массива, каждый из которых содержит 5 элементов\n",
    "arr3 = combined_arr[0]\n",
    "arr4 = combined_arr[1]\n",
    "# Alternatively, using split:\n",
    "# arr3, arr4 = np.split(combined_arr, 2)\n",
    "# arr3 = arr3[0]\n",
    "# arr4 = arr4[0]\n",
    "\n",
    "\n",
    "print(\"Первый подмассив (после разделения):\")\n",
    "print(arr3)\n",
    "print(\"Второй подмассив (после разделения):\")\n",
    "print(arr4)\n"
   ]
  }
 ],
 "metadata": {
  "kernelspec": {
   "display_name": "Python 3 (ipykernel)",
   "language": "python",
   "name": "python3"
  },
  "language_info": {
   "codemirror_mode": {
    "name": "ipython",
    "version": 3
   },
   "file_extension": ".py",
   "mimetype": "text/x-python",
   "name": "python",
   "nbconvert_exporter": "python",
   "pygments_lexer": "ipython3",
   "version": "3.12.7"
  }
 },
 "nbformat": 4,
 "nbformat_minor": 5
}
