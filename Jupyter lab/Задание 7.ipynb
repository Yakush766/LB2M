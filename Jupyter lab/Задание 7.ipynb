{
 "cells": [
  {
   "cell_type": "code",
   "execution_count": 1,
   "id": "79382bcc-98ed-4028-a961-65759afd9845",
   "metadata": {},
   "outputs": [
    {
     "name": "stdout",
     "output_type": "stream",
     "text": [
      "Матрица 1:\n",
      "[[7 3 7]\n",
      " [8 2 7]]\n",
      "Матрица 2:\n",
      "[[1 1]\n",
      " [7 2]\n",
      " [3 4]]\n",
      "Матричное произведение:\n",
      "[[49 41]\n",
      " [43 40]]\n"
     ]
    }
   ],
   "source": [
    "import numpy as np\n",
    "\n",
    "# 1. Создаем две матрицы NumPy:\n",
    "#    - Первая размером 2x3, заполненная случайными числами от 1 до 10\n",
    "#    - Вторая размером 3x2, заполненная случайными числами от 1 до 10\n",
    "matrix1 = np.random.randint(1, 11, size=(2, 3))\n",
    "matrix2 = np.random.randint(1, 11, size=(3, 2))\n",
    "\n",
    "print(\"Матрица 1:\")\n",
    "print(matrix1)\n",
    "print(\"Матрица 2:\")\n",
    "print(matrix2)\n",
    "\n",
    "# 2. Выполняем матричное умножение (@ или np.dot)\n",
    "product_matrix = matrix1 @ matrix2  # Альтернативно: product_matrix = np.dot(matrix1, matrix2)\n",
    "\n",
    "print(\"Матричное произведение:\")\n",
    "print(product_matrix)\n"
   ]
  }
 ],
 "metadata": {
  "kernelspec": {
   "display_name": "Python 3 (ipykernel)",
   "language": "python",
   "name": "python3"
  },
  "language_info": {
   "codemirror_mode": {
    "name": "ipython",
    "version": 3
   },
   "file_extension": ".py",
   "mimetype": "text/x-python",
   "name": "python",
   "nbconvert_exporter": "python",
   "pygments_lexer": "ipython3",
   "version": "3.12.7"
  }
 },
 "nbformat": 4,
 "nbformat_minor": 5
}
