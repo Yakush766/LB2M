{
 "cells": [
  {
   "cell_type": "code",
   "execution_count": 1,
   "id": "3c060a4c-70de-4911-a0c3-e2d6d9375d5f",
   "metadata": {},
   "outputs": [
    {
     "name": "stdout",
     "output_type": "stream",
     "text": [
      "Решение системы:\n",
      "x = 2.0\n",
      "y = 0.0\n",
      "z = -1.0\n"
     ]
    }
   ],
   "source": [
    "import numpy as np\n",
    "from numpy import linalg\n",
    "\n",
    "# Коэффициенты системы уравнений (матрица A)\n",
    "A = np.array([[2, 3, -1],\n",
    "              [4, -1, 2],\n",
    "              [3, 5, 4]])\n",
    "\n",
    "# Вектор правой части (вектор b)\n",
    "b = np.array([5, 6, 2])\n",
    "\n",
    "# Решение системы уравнений Ax = b с помощью linalg.solve\n",
    "x = linalg.solve(A, b)\n",
    "\n",
    "# Выводим результат\n",
    "print(\"Решение системы:\")\n",
    "print(\"x =\", x[0])\n",
    "print(\"y =\", x[1])\n",
    "print(\"z =\", x[2])\n"
   ]
  }
 ],
 "metadata": {
  "kernelspec": {
   "display_name": "Python 3 (ipykernel)",
   "language": "python",
   "name": "python3"
  },
  "language_info": {
   "codemirror_mode": {
    "name": "ipython",
    "version": 3
   },
   "file_extension": ".py",
   "mimetype": "text/x-python",
   "name": "python",
   "nbconvert_exporter": "python",
   "pygments_lexer": "ipython3",
   "version": "3.12.7"
  }
 },
 "nbformat": 4,
 "nbformat_minor": 5
}
