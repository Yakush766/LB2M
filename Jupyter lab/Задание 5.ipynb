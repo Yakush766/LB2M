{
 "cells": [
  {
   "cell_type": "code",
   "execution_count": 1,
   "id": "ff9ae44d-9b61-4d3c-98fc-99f9af9d2585",
   "metadata": {},
   "outputs": [
    {
     "name": "stdout",
     "output_type": "stream",
     "text": [
      "Единичная матрица:\n",
      "[[1. 0. 0. 0.]\n",
      " [0. 1. 0. 0.]\n",
      " [0. 0. 1. 0.]\n",
      " [0. 0. 0. 1.]]\n",
      "Диагональная матрица:\n",
      "[[ 5  0  0  0]\n",
      " [ 0 10  0  0]\n",
      " [ 0  0 15  0]\n",
      " [ 0  0  0 20]]\n",
      "Сумма элементов единичной матрицы: 4.0\n",
      "Сумма элементов диагональной матрицы: 50\n",
      "Сумма элементов диагональной матрицы больше.\n"
     ]
    }
   ],
   "source": [
    "import numpy as np\n",
    "\n",
    "# 1. Создаем единичную матрицу размером 4x4\n",
    "identity_matrix = np.eye(4)\n",
    "print(\"Единичная матрица:\")\n",
    "print(identity_matrix)\n",
    "\n",
    "# 2. Создаем диагональную матрицу размером 4x4 с диагональными элементами [5, 10, 15, 20]\n",
    "diagonal_elements = [5, 10, 15, 20]\n",
    "diagonal_matrix = np.diag(diagonal_elements)\n",
    "print(\"Диагональная матрица:\")\n",
    "print(diagonal_matrix)\n",
    "\n",
    "# 3. Находим сумму всех элементов каждой из этих матриц\n",
    "identity_sum = np.sum(identity_matrix)\n",
    "diagonal_sum = np.sum(diagonal_matrix)\n",
    "\n",
    "print(\"Сумма элементов единичной матрицы:\", identity_sum)\n",
    "print(\"Сумма элементов диагональной матрицы:\", diagonal_sum)\n",
    "\n",
    "# 4. Сравниваем результаты\n",
    "if identity_sum > diagonal_sum:\n",
    "    print(\"Сумма элементов единичной матрицы больше.\")\n",
    "elif identity_sum < diagonal_sum:\n",
    "    print(\"Сумма элементов диагональной матрицы больше.\")\n",
    "else:\n",
    "    print(\"Суммы элементов матриц равны.\")\n",
    "\n"
   ]
  }
 ],
 "metadata": {
  "kernelspec": {
   "display_name": "Python 3 (ipykernel)",
   "language": "python",
   "name": "python3"
  },
  "language_info": {
   "codemirror_mode": {
    "name": "ipython",
    "version": 3
   },
   "file_extension": ".py",
   "mimetype": "text/x-python",
   "name": "python",
   "nbconvert_exporter": "python",
   "pygments_lexer": "ipython3",
   "version": "3.12.7"
  }
 },
 "nbformat": 4,
 "nbformat_minor": 5
}
