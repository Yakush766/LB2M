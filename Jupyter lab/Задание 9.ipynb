{
 "cells": [
  {
   "cell_type": "code",
   "execution_count": 1,
   "id": "9916df98-5372-4704-8446-96f8bdd6fcb1",
   "metadata": {},
   "outputs": [
    {
     "name": "stdout",
     "output_type": "stream",
     "text": [
      "Исходная матрица:\n",
      "[[45 35 48 44]\n",
      " [17 12 19 19]\n",
      " [35 17 35 39]\n",
      " [35  9 41 31]]\n",
      "Транспонированная матрица:\n",
      "[[45 17 35 35]\n",
      " [35 12 17  9]\n",
      " [48 19 35 41]\n",
      " [44 19 39 31]]\n",
      "След матрицы: 123\n"
     ]
    }
   ],
   "source": [
    "import numpy as np\n",
    "\n",
    "# 1. Создаем матрицу NumPy размером 4x4, содержащую случайные целые числа от 1 до 50\n",
    "matrix = np.random.randint(1, 51, size=(4, 4))\n",
    "\n",
    "# 2. Выводим исходную матрицу\n",
    "print(\"Исходная матрица:\")\n",
    "print(matrix)\n",
    "\n",
    "# 3. Выводим транспонированную матрицу\n",
    "transposed_matrix = matrix.T  # Альтернативно: transposed_matrix = np.transpose(matrix)\n",
    "print(\"Транспонированная матрица:\")\n",
    "print(transposed_matrix)\n",
    "\n",
    "# 4. Выводим след матрицы (сумму элементов на главной диагонали)\n",
    "matrix_trace = np.trace(matrix)\n",
    "print(\"След матрицы:\", matrix_trace)\n"
   ]
  }
 ],
 "metadata": {
  "kernelspec": {
   "display_name": "Python 3 (ipykernel)",
   "language": "python",
   "name": "python3"
  },
  "language_info": {
   "codemirror_mode": {
    "name": "ipython",
    "version": 3
   },
   "file_extension": ".py",
   "mimetype": "text/x-python",
   "name": "python",
   "nbconvert_exporter": "python",
   "pygments_lexer": "ipython3",
   "version": "3.12.7"
  }
 },
 "nbformat": 4,
 "nbformat_minor": 5
}
