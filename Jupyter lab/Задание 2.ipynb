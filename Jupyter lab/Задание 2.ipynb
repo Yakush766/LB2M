{
 "cells": [
  {
   "cell_type": "code",
   "execution_count": 1,
   "id": "2e1f34d6-d710-46f7-8365-5a0bff4d54ec",
   "metadata": {},
   "outputs": [
    {
     "name": "stdout",
     "output_type": "stream",
     "text": [
      "Исходный массив: [79 73 68 75 90 69 39 58 80 84 86 85 14 73 83 62 61 18 77 97]\n",
      "Элементы, делящиеся на 5: [75 90 80 85]\n",
      "Обновленный массив: [79 73 68 -1 -1 69 39 58 -1 84 86 -1 14 73 83 62 61 18 77 97]\n"
     ]
    }
   ],
   "source": [
    "import numpy as np\n",
    "\n",
    "# 1. Создаем массив NumPy из 20 случайных целых чисел от 1 до 100\n",
    "arr = np.random.randint(1, 101, 20)\n",
    "print(\"Исходный массив:\", arr)\n",
    "\n",
    "# 2. Находим элементы, которые делятся на 5 без остатка\n",
    "divisible_by_5 = arr[arr % 5 == 0]\n",
    "print(\"Элементы, делящиеся на 5:\", divisible_by_5)\n",
    "\n",
    "# 3. Заменяем элементы, делящиеся на 5, на -1\n",
    "arr[arr % 5 == 0] = -1\n",
    "print(\"Обновленный массив:\", arr)\n"
   ]
  }
 ],
 "metadata": {
  "kernelspec": {
   "display_name": "Python 3 (ipykernel)",
   "language": "python",
   "name": "python3"
  },
  "language_info": {
   "codemirror_mode": {
    "name": "ipython",
    "version": 3
   },
   "file_extension": ".py",
   "mimetype": "text/x-python",
   "name": "python",
   "nbconvert_exporter": "python",
   "pygments_lexer": "ipython3",
   "version": "3.12.7"
  }
 },
 "nbformat": 4,
 "nbformat_minor": 5
}
