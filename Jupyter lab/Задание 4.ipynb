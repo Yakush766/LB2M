{
 "cells": [
  {
   "cell_type": "code",
   "execution_count": 1,
   "id": "3ef654b2-76b4-4abc-81b9-4c6fff75687f",
   "metadata": {},
   "outputs": [
    {
     "name": "stdout",
     "output_type": "stream",
     "text": [
      "Массив:\n",
      "[-10.          -9.59183673  -9.18367347  -8.7755102   -8.36734694\n",
      "  -7.95918367  -7.55102041  -7.14285714  -6.73469388  -6.32653061\n",
      "  -5.91836735  -5.51020408  -5.10204082  -4.69387755  -4.28571429\n",
      "  -3.87755102  -3.46938776  -3.06122449  -2.65306122  -2.24489796\n",
      "  -1.83673469  -1.42857143  -1.02040816  -0.6122449   -0.20408163\n",
      "   0.20408163   0.6122449    1.02040816   1.42857143   1.83673469\n",
      "   2.24489796   2.65306122   3.06122449   3.46938776   3.87755102\n",
      "   4.28571429   4.69387755   5.10204082   5.51020408   5.91836735\n",
      "   6.32653061   6.73469388   7.14285714   7.55102041   7.95918367\n",
      "   8.36734694   8.7755102    9.18367347   9.59183673  10.        ]\n",
      "Сумма всех элементов: 7.105427357601002e-15\n",
      "Сумма положительных элементов: 127.55102040816328\n",
      "Сумма отрицательных элементов: -127.55102040816327\n"
     ]
    }
   ],
   "source": [
    "import numpy as np\n",
    "\n",
    "# 1. Создаем массив из 50 чисел, равномерно распределенных от -10 до 10\n",
    "arr = np.linspace(-10, 10, 50)\n",
    "print(\"Массив:\")\n",
    "print(arr)\n",
    "\n",
    "# 2. Вычисляем сумму всех элементов\n",
    "total_sum = np.sum(arr)\n",
    "print(\"Сумма всех элементов:\", total_sum)\n",
    "\n",
    "# 3. Вычисляем сумму положительных элементов\n",
    "positive_elements = arr[arr > 0]\n",
    "positive_sum = np.sum(positive_elements)\n",
    "print(\"Сумма положительных элементов:\", positive_sum)\n",
    "\n",
    "# 4. Вычисляем сумму отрицательных элементов\n",
    "negative_elements = arr[arr < 0]\n",
    "negative_sum = np.sum(negative_elements)\n",
    "print(\"Сумма отрицательных элементов:\", negative_sum)\n",
    "\n"
   ]
  }
 ],
 "metadata": {
  "kernelspec": {
   "display_name": "Python 3 (ipykernel)",
   "language": "python",
   "name": "python3"
  },
  "language_info": {
   "codemirror_mode": {
    "name": "ipython",
    "version": 3
   },
   "file_extension": ".py",
   "mimetype": "text/x-python",
   "name": "python",
   "nbconvert_exporter": "python",
   "pygments_lexer": "ipython3",
   "version": "3.12.7"
  }
 },
 "nbformat": 4,
 "nbformat_minor": 5
}
