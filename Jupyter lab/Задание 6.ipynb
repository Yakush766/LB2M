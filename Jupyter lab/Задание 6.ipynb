{
 "cells": [
  {
   "cell_type": "code",
   "execution_count": 1,
   "id": "e26ecfbe-ff9e-4a62-9f5b-e1387e49707d",
   "metadata": {},
   "outputs": [
    {
     "name": "stdout",
     "output_type": "stream",
     "text": [
      "Матрица 1:\n",
      "[[ 5 11  2]\n",
      " [13  1 16]\n",
      " [ 5 16 12]]\n",
      "Матрица 2:\n",
      "[[ 9  1 20]\n",
      " [16  3  7]\n",
      " [15 19 13]]\n",
      "Сумма матриц:\n",
      "[[14 12 22]\n",
      " [29  4 23]\n",
      " [20 35 25]]\n",
      "Разность матриц:\n",
      "[[ -4  10 -18]\n",
      " [ -3  -2   9]\n",
      " [-10  -3  -1]]\n",
      "Поэлементное произведение матриц:\n",
      "[[ 45  11  40]\n",
      " [208   3 112]\n",
      " [ 75 304 156]]\n"
     ]
    }
   ],
   "source": [
    "import numpy as np\n",
    "\n",
    "# 1. Создаем две квадратные матрицы NumPy размером 3x3, заполненные случайными целыми числами от 1 до 20\n",
    "matrix1 = np.random.randint(1, 21, size=(3, 3))\n",
    "matrix2 = np.random.randint(1, 21, size=(3, 3))\n",
    "\n",
    "print(\"Матрица 1:\")\n",
    "print(matrix1)\n",
    "print(\"Матрица 2:\")\n",
    "print(matrix2)\n",
    "\n",
    "# 2. Вычисляем их сумму\n",
    "sum_matrix = matrix1 + matrix2\n",
    "print(\"Сумма матриц:\")\n",
    "print(sum_matrix)\n",
    "\n",
    "# 3. Вычисляем их разность\n",
    "diff_matrix = matrix1 - matrix2\n",
    "print(\"Разность матриц:\")\n",
    "print(diff_matrix)\n",
    "\n",
    "# 4. Вычисляем их поэлементное произведение\n",
    "elementwise_product = matrix1 * matrix2  # Или np.multiply(matrix1, matrix2)\n",
    "print(\"Поэлементное произведение матриц:\")\n",
    "print(elementwise_product)\n",
    "\n"
   ]
  }
 ],
 "metadata": {
  "kernelspec": {
   "display_name": "Python 3 (ipykernel)",
   "language": "python",
   "name": "python3"
  },
  "language_info": {
   "codemirror_mode": {
    "name": "ipython",
    "version": 3
   },
   "file_extension": ".py",
   "mimetype": "text/x-python",
   "name": "python",
   "nbconvert_exporter": "python",
   "pygments_lexer": "ipython3",
   "version": "3.12.7"
  }
 },
 "nbformat": 4,
 "nbformat_minor": 5
}
