{
 "cells": [
  {
   "cell_type": "code",
   "execution_count": 1,
   "id": "51834595-8548-49ba-af24-4032cd51d4a0",
   "metadata": {},
   "outputs": [
    {
     "name": "stdout",
     "output_type": "stream",
     "text": [
      "[[ 2  4  6]\n",
      " [ 8 10  0]\n",
      " [ 0  0  0]]\n"
     ]
    }
   ],
   "source": [
    "import numpy as np\n",
    "\n",
    "# Создание массива NumPy 3x3 с числами от 1 до 9\n",
    "arr = np.arange(1, 10).reshape((3, 3))\n",
    "\n",
    "# Умножение всех элементов массива на 2\n",
    "arr = arr * 2\n",
    "\n",
    "# Замена всех элементов больше 10 на 0\n",
    "arr[arr > 10] = 0\n",
    "\n",
    "# Вывод итогового массива\n",
    "print(arr)"
   ]
  }
 ],
 "metadata": {
  "kernelspec": {
   "display_name": "Python 3 (ipykernel)",
   "language": "python",
   "name": "python3"
  },
  "language_info": {
   "codemirror_mode": {
    "name": "ipython",
    "version": 3
   },
   "file_extension": ".py",
   "mimetype": "text/x-python",
   "name": "python",
   "nbconvert_exporter": "python",
   "pygments_lexer": "ipython3",
   "version": "3.12.7"
  }
 },
 "nbformat": 4,
 "nbformat_minor": 5
}
